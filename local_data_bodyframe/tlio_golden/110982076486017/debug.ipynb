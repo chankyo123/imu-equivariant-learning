{
 "cells": [
  {
   "cell_type": "code",
   "execution_count": 2,
   "metadata": {},
   "outputs": [
    {
     "name": "stdout",
     "output_type": "stream",
     "text": [
      "(59851, 17)\n",
      "0.0\n",
      "299.25\n"
     ]
    }
   ],
   "source": [
    "import numpy as np\n",
    "data = np.load('imu0_resampled.npy')\n",
    "print(data.shape)\n",
    "t = data[:,0]\n",
    "t = t - t[0]\n",
    "print(t[0])\n",
    "t = t / 1e6\n",
    "print(t[-1])"
   ]
  }
 ],
 "metadata": {
  "kernelspec": {
   "display_name": "venv",
   "language": "python",
   "name": "python3"
  },
  "language_info": {
   "codemirror_mode": {
    "name": "ipython",
    "version": 3
   },
   "file_extension": ".py",
   "mimetype": "text/x-python",
   "name": "python",
   "nbconvert_exporter": "python",
   "pygments_lexer": "ipython3",
   "version": "3.10.12"
  }
 },
 "nbformat": 4,
 "nbformat_minor": 2
}
